{
 "cells": [
  {
   "cell_type": "markdown",
   "id": "b907e209",
   "metadata": {},
   "source": [
    "# Code Submission\n",
    "\n",
    "*Chen Chen\n",
    " 21202636*"
   ]
  },
  {
   "cell_type": "markdown",
   "id": "fbcc37c6",
   "metadata": {},
   "source": [
    "## Section 1"
   ]
  },
  {
   "cell_type": "code",
   "execution_count": 48,
   "id": "4f8b99a2",
   "metadata": {},
   "outputs": [],
   "source": [
    "# import required packages here\n",
    "import pandas as pd\n",
    "import numpy as np\n",
    "from itertools import permutations\n",
    "import collections\n",
    "from mlxtend.preprocessing import TransactionEncoder\n",
    "from mlxtend.frequent_patterns import apriori\n",
    "from mlxtend.frequent_patterns import association_rules"
   ]
  },
  {
   "cell_type": "code",
   "execution_count": 49,
   "id": "23661737",
   "metadata": {},
   "outputs": [
    {
     "name": "stdout",
     "output_type": "stream",
     "text": [
      "(15206, 12)\n"
     ]
    }
   ],
   "source": [
    "# load the basket.csv file into a pandas DataFrame (df)\n",
    "path = r\"D:/UCD/classes/Data Management & Mining/Association Rules/data/\"\n",
    "filename = \"basket.csv\"\n",
    "df = pd.read_csv(path + filename)\n",
    "\n",
    "# Use df.shape to see the number of rows and columns in the df\n",
    "print(df.shape)"
   ]
  },
  {
   "cell_type": "code",
   "execution_count": 50,
   "id": "1610a26d",
   "metadata": {},
   "outputs": [
    {
     "name": "stdout",
     "output_type": "stream",
     "text": [
      "   ID           0     1                   2       3    4    5    6    7    8  \\\n",
      "0   1  whole milk  eggs         salty snack     NaN  NaN  NaN  NaN  NaN  NaN   \n",
      "1   2  whole milk  eggs         white bread  yogurt  NaN  NaN  NaN  NaN  NaN   \n",
      "2   3  whole milk  eggs                 NaN     NaN  NaN  NaN  NaN  NaN  NaN   \n",
      "3   4  whole milk  eggs                 NaN     NaN  NaN  NaN  NaN  NaN  NaN   \n",
      "4   5  whole milk  eggs                 NaN     NaN  NaN  NaN  NaN  NaN  NaN   \n",
      "5   6  whole milk  eggs          rolls/buns     NaN  NaN  NaN  NaN  NaN  NaN   \n",
      "6   7  whole milk  eggs                 NaN     NaN  NaN  NaN  NaN  NaN  NaN   \n",
      "7   8  whole milk  eggs  whipped/sour cream     NaN  NaN  NaN  NaN  NaN  NaN   \n",
      "\n",
      "     9   10  \n",
      "0  NaN  NaN  \n",
      "1  NaN  NaN  \n",
      "2  NaN  NaN  \n",
      "3  NaN  NaN  \n",
      "4  NaN  NaN  \n",
      "5  NaN  NaN  \n",
      "6  NaN  NaN  \n",
      "7  NaN  NaN  \n",
      "<class 'pandas.core.frame.DataFrame'>\n",
      "RangeIndex: 15206 entries, 0 to 15205\n",
      "Data columns (total 12 columns):\n",
      " #   Column  Non-Null Count  Dtype \n",
      "---  ------  --------------  ----- \n",
      " 0   ID      15206 non-null  int64 \n",
      " 1   0       15206 non-null  object\n",
      " 2   1       15204 non-null  object\n",
      " 3   2       5218 non-null   object\n",
      " 4   3       2398 non-null   object\n",
      " 5   4       886 non-null    object\n",
      " 6   5       477 non-null    object\n",
      " 7   6       281 non-null    object\n",
      " 8   7       198 non-null    object\n",
      " 9   8       51 non-null     object\n",
      " 10  9       1 non-null      object\n",
      " 11  10      1 non-null      object\n",
      "dtypes: int64(1), object(11)\n",
      "memory usage: 1.4+ MB\n",
      "None\n"
     ]
    }
   ],
   "source": [
    "# Use df.head() to see the first 8 rows of the df\n",
    "print(df.head(8))\n",
    "\n",
    "# Use df.info() to see the general information of the df\n",
    "print(df.info())"
   ]
  },
  {
   "cell_type": "code",
   "execution_count": 51,
   "id": "07577f5b",
   "metadata": {},
   "outputs": [
    {
     "name": "stdout",
     "output_type": "stream",
     "text": [
      "             0     1            2       3    4    5    6    7    8    9   10\n",
      "ID                                                                          \n",
      "1   whole milk  eggs  salty snack     NaN  NaN  NaN  NaN  NaN  NaN  NaN  NaN\n",
      "2   whole milk  eggs  white bread  yogurt  NaN  NaN  NaN  NaN  NaN  NaN  NaN\n",
      "3   whole milk  eggs          NaN     NaN  NaN  NaN  NaN  NaN  NaN  NaN  NaN\n"
     ]
    }
   ],
   "source": [
    "# Set the index of the df to the Transaction_ID column\n",
    "df.set_index(\"ID\", inplace = True)\n",
    "\n",
    "# Use df.head() to see the first 3 rows of the df\n",
    "print(df.head(3))\n",
    "\n",
    "# change the value types in all the dataframe columns to be string\n",
    "df = df.astype(\"str\")"
   ]
  },
  {
   "cell_type": "code",
   "execution_count": 52,
   "id": "e15242e8",
   "metadata": {},
   "outputs": [
    {
     "name": "stdout",
     "output_type": "stream",
     "text": [
      "                 0           1      2      3      4      5      6      7  \\\n",
      "count        15206       15206  15206  15206  15206  15206  15206  15206   \n",
      "unique         141         144    135    129    112     97     81     66   \n",
      "top     whole milk  whole milk    nan    nan    nan    nan    nan    nan   \n",
      "freq          1418        1128   9988  12808  14320  14729  14925  15008   \n",
      "\n",
      "            8      9     10  \n",
      "count   15206  15206  15206  \n",
      "unique     36      2      2  \n",
      "top       nan    nan    nan  \n",
      "freq    15155  15205  15205  \n"
     ]
    }
   ],
   "source": [
    "# Use the pandas describe method to get an overview of the dataset\n",
    "print(df.describe())"
   ]
  },
  {
   "cell_type": "code",
   "execution_count": 53,
   "id": "17675143",
   "metadata": {},
   "outputs": [
    {
     "name": "stdout",
     "output_type": "stream",
     "text": [
      "['whole milk', 'eggs', 'salty snack', 'nan', 'nan', 'nan', 'nan', 'nan', 'nan', 'nan', 'nan']\n"
     ]
    }
   ],
   "source": [
    "# create a list of lists, where each list contains the items in a given transaction\n",
    "transaction_list = df.values.tolist()\n",
    "\n",
    "# view the first transaction in the list\n",
    "print(transaction_list[0])"
   ]
  },
  {
   "cell_type": "code",
   "execution_count": 54,
   "id": "7f48d21e",
   "metadata": {},
   "outputs": [
    {
     "name": "stdout",
     "output_type": "stream",
     "text": [
      "167266\n"
     ]
    }
   ],
   "source": [
    "# from your list of lists, create a flattened list that contains all items purchased\n",
    "all_item_list = [item for transaction in transaction_list for item in transaction]\n",
    "\n",
    "# view the legnth of the list\n",
    "print(len(all_item_list))"
   ]
  },
  {
   "cell_type": "code",
   "execution_count": 55,
   "id": "b7e11c7f",
   "metadata": {},
   "outputs": [
    {
     "name": "stdout",
     "output_type": "stream",
     "text": [
      "148\n"
     ]
    }
   ],
   "source": [
    "# create a list of unique items from the flattened list\n",
    "unique_item_list = list(set(all_item_list))\n",
    "\n",
    "# remove any elements that items of interest (like empty strings or nan values)\n",
    "unique_item_list.remove('nan')\n",
    "\n",
    "# print out how many unique items we have\n",
    "print(len(unique_item_list))"
   ]
  },
  {
   "cell_type": "code",
   "execution_count": 56,
   "id": "649fea7c",
   "metadata": {},
   "outputs": [
    {
     "name": "stdout",
     "output_type": "stream",
     "text": [
      "21756\n",
      "[('whisky', 'hair spray'), ('whisky', 'rubbing alcohol'), ('whisky', 'specialty fat'), ('whisky', 'artif. sweetener'), ('whisky', 'oil')]\n"
     ]
    }
   ],
   "source": [
    "# generate the itemset permutations up to 2-itemsets\n",
    "rules = list(permutations(unique_item_list, 2))\n",
    "\n",
    "# print out the number of rules\n",
    "print(len(rules))\n",
    "\n",
    "# print some of the elements of the list of rules\n",
    "print(rules[:5])"
   ]
  },
  {
   "cell_type": "code",
   "execution_count": 57,
   "id": "6926947d",
   "metadata": {},
   "outputs": [
    {
     "name": "stdout",
     "output_type": "stream",
     "text": [
      "[('nan', 127345), ('whole milk', 3102), ('other vegetables', 2025), ('berries', 1848), ('rolls/buns', 1714), ('soda', 1507), ('yogurt', 1399), ('root vegetables', 1186), ('beef', 1158), ('tropical fruit', 1046), ('bottled water', 939), ('citrus fruit', 812), ('pastry', 788), ('eggs', 778), ('pip fruit', 740), ('chocolate', 736), ('shopping bags', 729), ('canned beer', 717), ('coffee', 715), ('bottled beer', 698), ('whipped/sour cream', 654), ('brown bread', 651), ('pork', 629), ('newspapers', 600), ('white bread', 549), ('cake', 544), ('jam', 544), ('butter', 534), ('fruit/vegetable juice', 521), ('margarine', 491), ('chicken', 456), ('grapes', 432), ('frozen vegetables', 426), ('cream cheese ', 358), ('napkins', 340), ('waffles', 305), ('onions', 304), ('salty snack', 285), ('long life bakery product', 269), ('sugar', 266), ('butter milk', 262), ('ham', 258), ('frozen meals', 249), ('beverages', 248), ('specialty chocolate', 246), ('misc. beverages', 234), ('oil', 228), ('ice cream', 225), ('hard cheese', 219), ('hygiene articles', 211), ('sliced cheese', 210), ('cat food', 208), ('chewing gum', 181), ('flour', 178), ('white wine', 178), ('herbs', 160), ('red wine', 160), ('soft cheese', 151), ('processed cheese', 151), ('baking powder', 140), ('dishes', 137), ('pickled vegetables', 133), ('detergent', 129), ('packaged fruit/vegetables', 128), ('pasta', 123), ('pot plants', 118), ('canned fish', 118), ('mustard', 109), ('seasonal products', 106), ('frozen fish', 101), ('rice', 101), ('spread cheese', 100), ('condensed milk', 99), ('canned vegetables', 90), ('salt', 89), ('pet care', 86), ('roll products ', 82), ('turkey', 80), ('photo/film', 78), ('mayonnaise', 78), ('cling film/bags', 75), ('cheese', 74), ('dog food', 72), ('frozen potato products', 72), ('dish cleaner', 72), ('flower (seeds)', 70), ('sweet spreads', 69), ('candles', 65), ('ketchup', 57), ('popcorn', 56), ('sparkling wine', 53), ('vinegar', 52), ('liver loaf', 50), ('soups', 48), ('cleaner', 48), ('house keeping products', 45), ('jam cheese', 45), ('sauces', 44), ('cereals', 42), ('spices', 40), ('brandy', 39), ('male cosmetics', 36), ('kitchen towels', 35), ('nuts/prunes', 33), ('dental care', 32), ('rum', 32), ('tea', 30), ('specialty fat', 29), ('light bulbs', 29), ('artif. sweetener', 28), ('fish', 27), ('potato products', 23), ('nut snack', 22), ('syrup', 22), ('abrasive cleaner', 22), ('organic berries', 22), ('canned fruit', 21), ('honey', 21), ('soap', 20), ('bathroom cleaner', 19), ('skin care', 19), ('prosecco', 18), ('cream', 18), ('pudding powder', 17), ('cookware', 16), ('ready soups', 15), ('cooking chocolate', 15), ('cocoa drinks', 15), ('frozen fruits', 12), ('specialty vegetables', 11), ('hair spray', 10), ('organic products', 10), ('whisky', 9), ('liqueur', 9), ('decalcifier', 9), ('salad dressing', 7), ('tinfoil', 6), ('potatoes', 6), ('make up remover', 5), ('bags', 5), ('toilet cleaner', 5), ('rubbing alcohol', 5), ('baby cosmetics', 4), ('sea salt', 2), ('preservation products', 1), ('kitchen utensil', 1), ('flaxseed', 1), ('champagne', 1), ('frozen meal', 1)]\n"
     ]
    }
   ],
   "source": [
    "# generate the frequency counts for each unique item in the dataset\n",
    "freq_item = collections.Counter(all_item_list)\n",
    "\n",
    "# show the most common\n",
    "print(freq_item.most_common())"
   ]
  },
  {
   "cell_type": "code",
   "execution_count": 58,
   "id": "2b324052",
   "metadata": {},
   "outputs": [
    {
     "name": "stdout",
     "output_type": "stream",
     "text": [
      "       abrasive cleaner  artif. sweetener  baby cosmetics  bags  \\\n",
      "0                     0                 0               0     0   \n",
      "1                     0                 0               0     0   \n",
      "2                     0                 0               0     0   \n",
      "3                     0                 0               0     0   \n",
      "4                     0                 0               0     0   \n",
      "...                 ...               ...             ...   ...   \n",
      "15201                 0                 0               0     0   \n",
      "15202                 0                 0               0     0   \n",
      "15203                 0                 0               0     0   \n",
      "15204                 0                 0               0     0   \n",
      "15205                 0                 0               0     0   \n",
      "\n",
      "       baking powder  bathroom cleaner  beef  berries  beverages  \\\n",
      "0                  0                 0     0        0          0   \n",
      "1                  0                 0     0        0          0   \n",
      "2                  0                 0     0        0          0   \n",
      "3                  0                 0     0        0          0   \n",
      "4                  0                 0     0        0          0   \n",
      "...              ...               ...   ...      ...        ...   \n",
      "15201              0                 0     0        0          0   \n",
      "15202              0                 0     0        0          0   \n",
      "15203              0                 0     0        0          0   \n",
      "15204              0                 0     0        0          0   \n",
      "15205              0                 1     0        0          0   \n",
      "\n",
      "       bottled beer  ...  tropical fruit  turkey  vinegar  waffles  \\\n",
      "0                 0  ...               0       0        0        0   \n",
      "1                 0  ...               0       0        0        0   \n",
      "2                 0  ...               0       0        0        0   \n",
      "3                 0  ...               0       0        0        0   \n",
      "4                 0  ...               0       0        0        0   \n",
      "...             ...  ...             ...     ...      ...      ...   \n",
      "15201             0  ...               0       0        0        0   \n",
      "15202             0  ...               0       0        1        0   \n",
      "15203             0  ...               0       0        0        0   \n",
      "15204             0  ...               0       0        0        0   \n",
      "15205             0  ...               0       0        0        0   \n",
      "\n",
      "       whipped/sour cream  whisky  white bread  white wine  whole milk  yogurt  \n",
      "0                       0       0            0           0           1       0  \n",
      "1                       0       0            1           0           1       1  \n",
      "2                       0       0            0           0           1       0  \n",
      "3                       0       0            0           0           1       0  \n",
      "4                       0       0            0           0           1       0  \n",
      "...                   ...     ...          ...         ...         ...     ...  \n",
      "15201                   0       0            0           0           0       1  \n",
      "15202                   0       0            1           0           0       1  \n",
      "15203                   0       0            0           0           0       1  \n",
      "15204                   0       0            0           0           0       1  \n",
      "15205                   0       0            0           0           0       1  \n",
      "\n",
      "[15206 rows x 148 columns]\n"
     ]
    }
   ],
   "source": [
    "# one-hot encode the data and show the first 5 rows of the resulting df\n",
    "# don't forget to drop the 'nan' value\n",
    "encoder = TransactionEncoder().fit(transaction_list)\n",
    "onehot = encoder.transform(transaction_list).astype(\"int\")\n",
    "\n",
    "df_onehot = pd.DataFrame(onehot, columns = encoder.columns_).drop(\"nan\", axis = 1)\n",
    "print(df_onehot)"
   ]
  },
  {
   "cell_type": "code",
   "execution_count": 59,
   "id": "e8c01e86",
   "metadata": {},
   "outputs": [
    {
     "name": "stdout",
     "output_type": "stream",
     "text": [
      "      support                          itemsets\n",
      "77   0.191109                      (whole milk)\n",
      "45   0.128568                (other vegetables)\n",
      "2    0.116336                         (berries)\n",
      "59   0.108181                      (rolls/buns)\n",
      "66   0.095226                            (soda)\n",
      "..        ...                               ...\n",
      "130  0.005195  (whole milk, whipped/sour cream)\n",
      "50   0.005130                      (photo/film)\n",
      "38   0.005130                      (mayonnaise)\n",
      "79   0.005130                   (berries, beef)\n",
      "105  0.005064                 (jam, whole milk)\n",
      "\n",
      "[133 rows x 2 columns]\n"
     ]
    }
   ],
   "source": [
    "# Generate frequent itemsets with a minimum support of 0.5%\n",
    "freq_itemsets = apriori(df_onehot, min_support = 0.005, use_colnames = True)\n",
    "\n",
    "# view the itemsets sorted by most frequent\n",
    "print(freq_itemsets.sort_values(by = ['support'], ascending = False))"
   ]
  },
  {
   "cell_type": "markdown",
   "id": "35bacd38",
   "metadata": {},
   "source": [
    "How many itemsets are generated for the following support thresholds?:\n",
    "* 0.1%    -   762\n",
    "* 0.5%    -   133\n",
    "* 1%     -   68\n",
    "* 10%     -   4"
   ]
  },
  {
   "cell_type": "code",
   "execution_count": 60,
   "id": "74c99d64",
   "metadata": {},
   "outputs": [
    {
     "name": "stdout",
     "output_type": "stream",
     "text": [
      "42\n"
     ]
    }
   ],
   "source": [
    "# generate association rules with a confidence threshold of 10%\n",
    "rules_df = association_rules(freq_itemsets, metric = 'confidence', min_threshold = 0.1)\n",
    "\n",
    "# how many rules are generated?\n",
    "print(len(rules_df))"
   ]
  },
  {
   "cell_type": "code",
   "execution_count": 61,
   "id": "3484d13d",
   "metadata": {},
   "outputs": [
    {
     "name": "stdout",
     "output_type": "stream",
     "text": [
      "             antecedents         consequents   support  confidence      lift  \\\n",
      "21                (eggs)        (whole milk)  0.015520    0.312169  1.633464   \n",
      "25     (root vegetables)  (other vegetables)  0.013087    0.171997  1.337790   \n",
      "26    (other vegetables)   (root vegetables)  0.013087    0.101790  1.337790   \n",
      "28         (white bread)  (other vegetables)  0.006116    0.171587  1.334602   \n",
      "9              (berries)            (yogurt)  0.012429    0.106840  1.203414   \n",
      "10              (yogurt)           (berries)  0.012429    0.140000  1.203414   \n",
      "2         (bottled beer)           (berries)  0.005590    0.123367  1.060442   \n",
      "20                (eggs)  (other vegetables)  0.006708    0.134921  1.049413   \n",
      "0                 (beef)  (other vegetables)  0.009930    0.133274  1.036610   \n",
      "6               (pastry)           (berries)  0.005787    0.113256  0.973529   \n",
      "11        (bottled beer)        (whole milk)  0.008089    0.178520  0.934126   \n",
      "40         (white bread)        (whole milk)  0.006313    0.177122  0.926811   \n",
      "23          (newspapers)        (whole milk)  0.006708    0.174061  0.910798   \n",
      "5     (other vegetables)           (berries)  0.013218    0.102813  0.883764   \n",
      "4              (berries)  (other vegetables)  0.013218    0.113624  0.883764   \n",
      "3        (bottled water)           (berries)  0.006116    0.101751  0.874629   \n",
      "7                 (soda)           (berries)  0.009667    0.101519  0.872642   \n",
      "14              (butter)        (whole milk)  0.005590    0.161290  0.843971   \n",
      "36       (shopping bags)        (whole milk)  0.007431    0.158931  0.831626   \n",
      "8              (berries)        (whole milk)  0.018480    0.158847  0.831185   \n",
      "34          (rolls/buns)        (whole milk)  0.016770    0.155015  0.811136   \n",
      "17           (chocolate)        (whole milk)  0.007300    0.153953  0.805577   \n",
      "15                (cake)        (whole milk)  0.005393    0.152700  0.799022   \n",
      "32           (pip fruit)        (whole milk)  0.007300    0.152055  0.795645   \n",
      "41              (yogurt)        (whole milk)  0.013482    0.151852  0.794583   \n",
      "33                (pork)        (whole milk)  0.006116    0.150729  0.788710   \n",
      "27                (soda)  (other vegetables)  0.009601    0.100829  0.784246   \n",
      "29          (whole milk)  (other vegetables)  0.019203    0.100482  0.781548   \n",
      "30    (other vegetables)        (whole milk)  0.019203    0.149361  0.781548   \n",
      "24          (rolls/buns)  (other vegetables)  0.010851    0.100304  0.780165   \n",
      "1                 (beef)        (whole milk)  0.011048    0.148279  0.775887   \n",
      "18        (citrus fruit)        (whole milk)  0.007694    0.147170  0.770084   \n",
      "19              (coffee)        (whole milk)  0.006774    0.146933  0.768845   \n",
      "31              (pastry)        (whole milk)  0.007431    0.145431  0.760986   \n",
      "13         (brown bread)        (whole milk)  0.006116    0.145086  0.759179   \n",
      "22                 (jam)        (whole milk)  0.005064    0.144195  0.754517   \n",
      "12       (bottled water)        (whole milk)  0.008615    0.143326  0.749971   \n",
      "38      (tropical fruit)        (whole milk)  0.009667    0.142996  0.748245   \n",
      "35     (root vegetables)        (whole milk)  0.010719    0.140882  0.737180   \n",
      "16         (canned beer)        (whole milk)  0.006445    0.139601  0.730480   \n",
      "37                (soda)        (whole milk)  0.013153    0.138122  0.722738   \n",
      "39  (whipped/sour cream)        (whole milk)  0.005195    0.122291  0.639903   \n",
      "\n",
      "    leverage  \n",
      "21  0.006019  \n",
      "25  0.003304  \n",
      "26  0.003304  \n",
      "28  0.001533  \n",
      "9   0.002101  \n",
      "10  0.002101  \n",
      "2   0.000319  \n",
      "20  0.000316  \n",
      "0   0.000351  \n",
      "6  -0.000157  \n",
      "11 -0.000570  \n",
      "40 -0.000499  \n",
      "23 -0.000657  \n",
      "5  -0.001739  \n",
      "4  -0.001739  \n",
      "3  -0.000877  \n",
      "7  -0.001411  \n",
      "14 -0.001033  \n",
      "36 -0.001505  \n",
      "8  -0.003753  \n",
      "34 -0.003905  \n",
      "17 -0.001762  \n",
      "15 -0.001356  \n",
      "32 -0.001875  \n",
      "41 -0.003485  \n",
      "33 -0.001638  \n",
      "27 -0.002641  \n",
      "29 -0.005367  \n",
      "30 -0.005367  \n",
      "24 -0.003058  \n",
      "1  -0.003191  \n",
      "18 -0.002297  \n",
      "19 -0.002037  \n",
      "31 -0.002334  \n",
      "13 -0.001940  \n",
      "22 -0.001648  \n",
      "12 -0.002872  \n",
      "38 -0.003253  \n",
      "35 -0.003822  \n",
      "16 -0.002378  \n",
      "37 -0.005046  \n",
      "39 -0.002924  \n"
     ]
    }
   ],
   "source": [
    "# print out the rules sorted by lift\n",
    "print(rules_df.sort_values(by = ['lift'], ascending = False).drop(columns=['antecedent support', 'consequent support', 'conviction']))"
   ]
  },
  {
   "cell_type": "markdown",
   "id": "cceae657",
   "metadata": {},
   "source": [
    "## Section 2 - OPTION\n",
    "\n",
    "This section details one of three options. For the other two options, see the assignment instructions document (*Instructions_Assignment_1.pdf*).\n",
    "\n",
    "Your task is to implement the Apriori algorithm from \"scratch\" using the same dataset as Section 1.\n",
    "\n",
    "You can read the data into a dataframe and use pandas methods but you cannot use mlxtend or another similar package. You should write functions to implement the steps of the algorithm to create frequent itemsets.\n",
    "\n",
    "Calculate the support, confidence, and lift for single itemset rules."
   ]
  },
  {
   "cell_type": "code",
   "execution_count": 62,
   "id": "25335c6e",
   "metadata": {},
   "outputs": [],
   "source": [
    "# import required packages\n",
    "import pandas as pd\n",
    "import numpy as np\n",
    "from itertools import permutations\n",
    "import collections"
   ]
  },
  {
   "cell_type": "code",
   "execution_count": 63,
   "id": "eb5d01a8",
   "metadata": {},
   "outputs": [],
   "source": [
    "# load the basket.csv file into a pandas DataFrame (df)\n",
    "path = r\"D:/UCD/classes/Data Management & Mining/Association Rules/data/\"\n",
    "filename = \"basket.csv\"\n",
    "df = pd.read_csv(path + filename)"
   ]
  },
  {
   "cell_type": "code",
   "execution_count": 64,
   "id": "c9be4df0",
   "metadata": {},
   "outputs": [],
   "source": [
    "# Set the thresholds for support and confidence\n",
    "min_support = 0.005\n",
    "min_confidence = 0.1"
   ]
  },
  {
   "cell_type": "code",
   "execution_count": 65,
   "id": "977763eb",
   "metadata": {},
   "outputs": [],
   "source": [
    "# Set the index of the df to the Transaction_ID column\n",
    "df.set_index(\"ID\", inplace = True)"
   ]
  },
  {
   "cell_type": "code",
   "execution_count": 66,
   "id": "f1ace704",
   "metadata": {},
   "outputs": [],
   "source": [
    "# create a list of lists, where each list contains the items in a given transaction\n",
    "transaction_list = df.values.tolist()"
   ]
  },
  {
   "cell_type": "code",
   "execution_count": 67,
   "id": "80153c8b",
   "metadata": {},
   "outputs": [],
   "source": [
    "# from your list of lists, create a flattened list that contains all items purchased\n",
    "all_item_list = [item for transaction in transaction_list for item in transaction]"
   ]
  },
  {
   "cell_type": "code",
   "execution_count": 68,
   "id": "70ffcddc",
   "metadata": {},
   "outputs": [],
   "source": [
    "# create a list of unique items from the flattened list\n",
    "unique_item_list = list(set(all_item_list))\n",
    "\n",
    "# remove any elements that items of interest (like empty strings or nan values)\n",
    "unique_item_list.remove(np.nan)"
   ]
  },
  {
   "cell_type": "markdown",
   "id": "794ebfe7",
   "metadata": {},
   "source": [
    "## Step 1: Get the frequent itemsets for one item"
   ]
  },
  {
   "cell_type": "code",
   "execution_count": 69,
   "id": "58ce5e2a",
   "metadata": {},
   "outputs": [],
   "source": [
    "# generate the frequency counts for each unique item in the dataset\n",
    "item_counts = collections.Counter(all_item_list).most_common()\n",
    "\n",
    "# Transform the frequency counts into a pandas dataframe\n",
    "item_counts = pd.DataFrame(item_counts, columns = [\"item\", \"counts\"]).dropna()\n",
    "\n",
    "# Calculate the support values\n",
    "total_number = len(transaction_list)\n",
    "item_counts[\"support\"] = item_counts[\"counts\"]/total_number\n",
    "\n",
    "# Filter the frequent itemsets to meet the minimum support requirement\n",
    "freq_itemsets = item_counts.loc[item_counts[\"support\"]>=min_support]\n",
    "freq_itemsets = freq_itemsets[\"item\"]"
   ]
  },
  {
   "cell_type": "markdown",
   "id": "e2f4b3f0",
   "metadata": {},
   "source": [
    "## Step 2: Generate rules based on the frequent itemsets"
   ]
  },
  {
   "cell_type": "code",
   "execution_count": 70,
   "id": "c8babf3d",
   "metadata": {},
   "outputs": [],
   "source": [
    "# generate the itemset permutations up to 2-itemsets\n",
    "rules = list(permutations(freq_itemsets, 2))"
   ]
  },
  {
   "cell_type": "code",
   "execution_count": null,
   "id": "515a0bb5",
   "metadata": {},
   "outputs": [],
   "source": [
    "# count the number of occurences for the rules\n",
    "rule_counts = {}\n",
    "flag = 0\n",
    "\n",
    "for i in rules:\n",
    "    for j in transaction_list:\n",
    "        if set(i).issubset(set(j)):\n",
    "            flag += 1\n",
    "    rule_counts[i] = flag\n",
    "    flag = 0\n",
    "\n",
    "# Transform the rule counts into a pandas dataframe\n",
    "rule_counts = pd.DataFrame.from_dict(rule_counts, orient = \"index\").reset_index()"
   ]
  },
  {
   "cell_type": "code",
   "execution_count": null,
   "id": "f5dc25fd",
   "metadata": {},
   "outputs": [],
   "source": [
    "# get the antecedents and the consequents\n",
    "rule_counts[\"antecedent\"] = rule_counts[\"index\"].apply(lambda x: x[0])\n",
    "rule_counts[\"consequent\"] = rule_counts[\"index\"].apply(lambda x: x[1])"
   ]
  },
  {
   "cell_type": "code",
   "execution_count": null,
   "id": "1c5c88ae",
   "metadata": {},
   "outputs": [],
   "source": [
    "# merge dataframes to get the counts for the antecedents and the consequents\n",
    "temp = rule_counts.merge(item_counts, how = \"left\", left_on = \"antecedent\", right_on = \"item\")\n",
    "result = temp.merge(item_counts, how = \"left\", left_on = \"consequent\", right_on = \"item\")"
   ]
  },
  {
   "cell_type": "code",
   "execution_count": null,
   "id": "f81eafd7",
   "metadata": {},
   "outputs": [],
   "source": [
    "# change the column names and drop unnecessary columns\n",
    "result.rename(columns = {\"index\":\"rule\", 0:\"rule_counts\", \"counts_x\":\"antecedent_counts\", \"counts_y\":\"consequent_counts\", \"support_x\":\"support\"}, inplace = True)\n",
    "result.drop(columns = [\"item_x\", \"item_y\", \"support_y\"], inplace = True)"
   ]
  },
  {
   "cell_type": "code",
   "execution_count": null,
   "id": "60076971",
   "metadata": {},
   "outputs": [],
   "source": [
    "# Calculate the confidence values and the lift values\n",
    "result[\"confidence\"] = result[\"rule_counts\"]/result[\"antecedent_counts\"]\n",
    "result[\"lift\"] = result[\"confidence\"]/(result[\"consequent_counts\"]/total_number)\n",
    "\n",
    "# Filter the result to show those with confidence>=10%\n",
    "result = result[result[\"confidence\"]>=0.1]\n",
    "\n",
    "# sort the result by the lift values\n",
    "print(result.sort_values(by = [\"lift\"], ascending = False)[:20])"
   ]
  }
 ],
 "metadata": {
  "kernelspec": {
   "display_name": "Python 3 (ipykernel)",
   "language": "python",
   "name": "python3"
  },
  "language_info": {
   "codemirror_mode": {
    "name": "ipython",
    "version": 3
   },
   "file_extension": ".py",
   "mimetype": "text/x-python",
   "name": "python",
   "nbconvert_exporter": "python",
   "pygments_lexer": "ipython3",
   "version": "3.8.8"
  }
 },
 "nbformat": 4,
 "nbformat_minor": 5
}
